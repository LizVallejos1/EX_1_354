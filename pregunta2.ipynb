{
  "nbformat": 4,
  "nbformat_minor": 0,
  "metadata": {
    "colab": {
      "provenance": [],
      "authorship_tag": "ABX9TyOxUsoXPSaJ6eNbl090oZYN",
      "include_colab_link": true
    },
    "kernelspec": {
      "name": "python3",
      "display_name": "Python 3"
    },
    "language_info": {
      "name": "python"
    }
  },
  "cells": [
    {
      "cell_type": "markdown",
      "metadata": {
        "id": "view-in-github",
        "colab_type": "text"
      },
      "source": [
        "<a href=\"https://colab.research.google.com/github/LizVallejos1/EX_1_354/blob/main/pregunta2.ipynb\" target=\"_parent\"><img src=\"https://colab.research.google.com/assets/colab-badge.svg\" alt=\"Open In Colab\"/></a>"
      ]
    },
    {
      "cell_type": "code",
      "execution_count": null,
      "metadata": {
        "id": "ure1lQ4lvMYS"
      },
      "outputs": [],
      "source": [
        "##pregunta 1: Realice el cálculo de la media, moda, cuartiles de datos y de percentiles por columna\n",
        "#con numpy ni pandas"
      ]
    },
    {
      "cell_type": "code",
      "source": [
        "import pandas as pd # Contiene funciones de analisis de datos\n",
        "import numpy as np\n",
        "import matplotlib.pyplot as plt"
      ],
      "metadata": {
        "id": "xSwpXHJkvd26"
      },
      "execution_count": null,
      "outputs": []
    },
    {
      "cell_type": "code",
      "source": [
        "from google.colab import drive\n",
        "drive.mount('/gdrive')"
      ],
      "metadata": {
        "colab": {
          "base_uri": "https://localhost:8080/"
        },
        "id": "ZZmW-eFavZnL",
        "outputId": "3e3707d1-c54b-4867-9d1b-5925e174bd77"
      },
      "execution_count": null,
      "outputs": [
        {
          "output_type": "stream",
          "name": "stdout",
          "text": [
            "Mounted at /gdrive\n"
          ]
        }
      ]
    },
    {
      "cell_type": "code",
      "source": [
        "datos=pd.read_csv('/gdrive/MyDrive/diabetes.csv')"
      ],
      "metadata": {
        "id": "g4Ddbmgqvfw4"
      },
      "execution_count": null,
      "outputs": []
    },
    {
      "cell_type": "code",
      "source": [
        "print(datos)"
      ],
      "metadata": {
        "colab": {
          "base_uri": "https://localhost:8080/"
        },
        "id": "UErkXOWQwM1w",
        "outputId": "a722e86f-bb5a-42af-e0ee-54d3376176d8"
      },
      "execution_count": null,
      "outputs": [
        {
          "output_type": "stream",
          "name": "stdout",
          "text": [
            "     Pregnancies  Glucose  BloodPressure  SkinThickness  Insulin   BMI  \\\n",
            "0              6      148             72             35        0  33.6   \n",
            "1              1       85             66             29        0  26.6   \n",
            "2              8      183             64              0        0  23.3   \n",
            "3              1       89             66             23       94  28.1   \n",
            "4              0      137             40             35      168  43.1   \n",
            "..           ...      ...            ...            ...      ...   ...   \n",
            "763           10      101             76             48      180  32.9   \n",
            "764            2      122             70             27        0  36.8   \n",
            "765            5      121             72             23      112  26.2   \n",
            "766            1      126             60              0        0  30.1   \n",
            "767            1       93             70             31        0  30.4   \n",
            "\n",
            "     DiabetesPedigreeFunction  Age  Outcome  \n",
            "0                       0.627   50        1  \n",
            "1                       0.351   31        0  \n",
            "2                       0.672   32        1  \n",
            "3                       0.167   21        0  \n",
            "4                       2.288   33        1  \n",
            "..                        ...  ...      ...  \n",
            "763                     0.171   63        0  \n",
            "764                     0.340   27        0  \n",
            "765                     0.245   30        0  \n",
            "766                     0.349   47        1  \n",
            "767                     0.315   23        0  \n",
            "\n",
            "[768 rows x 9 columns]\n"
          ]
        }
      ]
    },
    {
      "cell_type": "code",
      "source": [
        "#Calculo de meadia\n",
        "media_por_columna = datos.mean()\n",
        "print(media_por_columna)"
      ],
      "metadata": {
        "colab": {
          "base_uri": "https://localhost:8080/"
        },
        "id": "SNSYAY4fwSgv",
        "outputId": "4cfb721c-38cc-47cd-a0dc-e7e2cb49a4a9"
      },
      "execution_count": null,
      "outputs": [
        {
          "output_type": "stream",
          "name": "stdout",
          "text": [
            "Pregnancies                   3.845052\n",
            "Glucose                     120.894531\n",
            "BloodPressure                69.105469\n",
            "SkinThickness                20.536458\n",
            "Insulin                      79.799479\n",
            "BMI                          31.992578\n",
            "DiabetesPedigreeFunction      0.471876\n",
            "Age                          33.240885\n",
            "Outcome                       0.348958\n",
            "dtype: float64\n"
          ]
        }
      ]
    },
    {
      "cell_type": "code",
      "source": [
        "#Calculo de moda\n",
        "moda_por_columna = datos.mode()\n",
        "print(moda_por_columna)"
      ],
      "metadata": {
        "colab": {
          "base_uri": "https://localhost:8080/"
        },
        "id": "ZKq2nf--xLoG",
        "outputId": "5ad095f1-4dbc-4c8a-ffa0-dba80a392120"
      },
      "execution_count": null,
      "outputs": [
        {
          "output_type": "stream",
          "name": "stdout",
          "text": [
            "   Pregnancies  Glucose  BloodPressure  SkinThickness  Insulin   BMI  \\\n",
            "0          1.0       99           70.0            0.0      0.0  32.0   \n",
            "1          NaN      100            NaN            NaN      NaN   NaN   \n",
            "\n",
            "   DiabetesPedigreeFunction   Age  Outcome  \n",
            "0                     0.254  22.0      0.0  \n",
            "1                     0.258   NaN      NaN  \n"
          ]
        }
      ]
    },
    {
      "cell_type": "code",
      "source": [
        "#Calculo de cuartiles\n",
        "cuartiles_por_columna = datos.quantile([0.25, 0.5, 0.75])\n",
        "print(cuartiles_por_columna)"
      ],
      "metadata": {
        "colab": {
          "base_uri": "https://localhost:8080/"
        },
        "id": "Ieyd1nSjxUN5",
        "outputId": "4c1a08b9-4718-437f-8842-eb3eaf013782"
      },
      "execution_count": null,
      "outputs": [
        {
          "output_type": "stream",
          "name": "stdout",
          "text": [
            "      Pregnancies  Glucose  BloodPressure  SkinThickness  Insulin   BMI  \\\n",
            "0.25          1.0    99.00           62.0            0.0     0.00  27.3   \n",
            "0.50          3.0   117.00           72.0           23.0    30.50  32.0   \n",
            "0.75          6.0   140.25           80.0           32.0   127.25  36.6   \n",
            "\n",
            "      DiabetesPedigreeFunction   Age  Outcome  \n",
            "0.25                   0.24375  24.0      0.0  \n",
            "0.50                   0.37250  29.0      0.0  \n",
            "0.75                   0.62625  41.0      1.0  \n"
          ]
        }
      ]
    },
    {
      "cell_type": "code",
      "source": [
        "#Calculo de percentiles\n",
        "percentiles_por_columna = datos.quantile([0.1, 0.25, 0.5, 0.75, 0.9])\n",
        "print(percentiles_por_columna)"
      ],
      "metadata": {
        "colab": {
          "base_uri": "https://localhost:8080/"
        },
        "id": "upfOIV4Hxe77",
        "outputId": "3510089c-efcc-4818-b3f9-8fe50f7b43be"
      },
      "execution_count": null,
      "outputs": [
        {
          "output_type": "stream",
          "name": "stdout",
          "text": [
            "      Pregnancies  Glucose  BloodPressure  SkinThickness  Insulin   BMI  \\\n",
            "0.10          0.0    85.00           54.0            0.0     0.00  23.6   \n",
            "0.25          1.0    99.00           62.0            0.0     0.00  27.3   \n",
            "0.50          3.0   117.00           72.0           23.0    30.50  32.0   \n",
            "0.75          6.0   140.25           80.0           32.0   127.25  36.6   \n",
            "0.90          9.0   167.00           88.0           40.0   210.00  41.5   \n",
            "\n",
            "      DiabetesPedigreeFunction   Age  Outcome  \n",
            "0.10                   0.16500  22.0      0.0  \n",
            "0.25                   0.24375  24.0      0.0  \n",
            "0.50                   0.37250  29.0      0.0  \n",
            "0.75                   0.62625  41.0      1.0  \n",
            "0.90                   0.87860  51.0      1.0  \n"
          ]
        }
      ]
    },
    {
      "cell_type": "code",
      "source": [
        "plt.plot(datos['Age'], datos['Pregnancies'], 'ro')\n",
        "plt.xlabel('Edad')\n",
        "plt.ylabel('Embarazos')\n",
        "plt.title('Embarazos y edad ')\n",
        "plt.show()"
      ],
      "metadata": {
        "colab": {
          "base_uri": "https://localhost:8080/",
          "height": 472
        },
        "id": "99DTjNFvxln1",
        "outputId": "e7d05e76-0904-4c82-9760-9cfe7960c807"
      },
      "execution_count": null,
      "outputs": [
        {
          "output_type": "display_data",
          "data": {
            "text/plain": [
              "<Figure size 640x480 with 1 Axes>"
            ],
            "image/png": "[encoded data removed]"
          },
          "metadata": {}
        }
      ]
    }
  ]
}