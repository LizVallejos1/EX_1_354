{
  "cells": [
    {
      "cell_type": "markdown",
      "metadata": {
        "id": "view-in-github",
        "colab_type": "text"
      },
      "source": [
        "<a href=\"https://colab.research.google.com/github/LizVallejos1/EX_1_354/blob/main/pregunta_7.ipynb\" target=\"_parent\"><img src=\"https://colab.research.google.com/assets/colab-badge.svg\" alt=\"Open In Colab\"/></a>"
      ]
    },
    {
      "cell_type": "code",
      "execution_count": null,
      "metadata": {
        "colab": {
          "base_uri": "https://localhost:8080/",
          "height": 36
        },
        "id": "Y0NqtRhuq-XZ",
        "outputId": "7f5f9070-f74c-4397-be3a-c8783315d612"
      },
      "outputs": [
        {
          "data": {
            "application/vnd.google.colaboratory.intrinsic+json": {
              "type": "string"
            },
            "text/plain": [
              "' pregunta 7. Con el uso de librerías en PYTHON, construya la dependencia de Abuelos, tíos, padres, primos e hijos de su familia. '"
            ]
          },
          "execution_count": 3,
          "metadata": {},
          "output_type": "execute_result"
        }
      ],
      "source": [
        "\"\"\" pregunta 7. Con el uso de librerías en PYTHON, construya la dependencia de Abuelos, tíos, padres, primos e hijos de su familia. \"\"\""
      ]
    },
    {
      "cell_type": "code",
      "execution_count": null,
      "metadata": {
        "colab": {
          "background_save": true
        },
        "id": "40_yW9I9pqq_"
      },
      "outputs": [],
      "source": [
        "from kanren import Relation, facts,var,run,lall\n",
        "from kanren.constraints import neq"
      ]
    },
    {
      "cell_type": "code",
      "execution_count": null,
      "metadata": {
        "id": "qf0qv72cp9tg"
      },
      "outputs": [],
      "source": [
        "x=var()\n",
        "padres=Relation()"
      ]
    },
    {
      "cell_type": "code",
      "execution_count": null,
      "metadata": {
        "id": "5KFAAN96qA-w"
      },
      "outputs": [],
      "source": [
        "facts(padres,(\"Telesforo\",\"Gabriel \"),\n",
        "            (\"Telesforo\",\"Amalia\"),\n",
        "            (\"Telesforo\",\"Cristina\"),\n",
        "            (\"Telesforo\",\"Beatriz\"),\n",
        "            (\"Telesforo\",\"Liz\"),\n",
        "            (\"Esperanza\",\"Gabriel \"),\n",
        "            (\"Esperanza\",\"Amalia\"),\n",
        "            (\"Esperanza\",\"Cristina\"),\n",
        "            (\"Esperanza\",\"Beatriz\"),\n",
        "            (\"Esperanza\",\"Liz\"),\n",
        "            (\"Carmen\",\"Esperanza\"),\n",
        "            (\"Carmen\",\"Carlos\"),\n",
        "            (\"Carlos\",\"Camila\"),\n",
        "           (\"Carlos\",\"Franco\"),\n",
        "            (\"Domingo\",\"Telesforo\"),\n",
        "            (\"Domingo\",\"Juana\"),\n",
        "            (\"Paulino\",\"Esperanza\"),\n",
        "            (\"Paulino\",\"Carlos\"),\n",
        "            (\"Tomasa\",\"Telesforo\"),\n",
        "            (\"Tomasa\",\"Juana\"),)\n",
        "\n",
        "\n"
      ]
    },
    {
      "cell_type": "code",
      "execution_count": null,
      "metadata": {
        "id": "3mAcWC-DqFa7"
      },
      "outputs": [],
      "source": [
        "def hijos(x,y):\n",
        "  return lall(padres(y,x))"
      ]
    },
    {
      "cell_type": "code",
      "execution_count": null,
      "metadata": {
        "id": "9hW6cVldqH8x"
      },
      "outputs": [],
      "source": [
        "def abuelos(x,z):\n",
        "  y=var()\n",
        "  return lall(padres(x,y),padres(y,z))"
      ]
    },
    {
      "cell_type": "code",
      "execution_count": null,
      "metadata": {
        "id": "JgBYsdFSqLSz"
      },
      "outputs": [],
      "source": [
        "def hermanos(x,y):\n",
        "  p=var()\n",
        "  return lall(padres(p,y),hijos(x,p),neq(x,y))"
      ]
    },
    {
      "cell_type": "code",
      "execution_count": null,
      "metadata": {
        "id": "-2HrhZogqM_1"
      },
      "outputs": [],
      "source": [
        "def tios(x1,z):\n",
        "  y=var()\n",
        "  x2=var()\n",
        "  return lall(padres(x2,z),hermanos(x1,x2),neq(x1,x2))"
      ]
    },
    {
      "cell_type": "code",
      "execution_count": null,
      "metadata": {
        "id": "IST-E8mIqOEq"
      },
      "outputs": [],
      "source": [
        "def primos(x,y):\n",
        "  p1,p2=var(),var()\n",
        "  return lall(padres(p2,y),hermanos(p1,p2),hijos(x,p1))"
      ]
    },
    {
      "cell_type": "code",
      "execution_count": null,
      "metadata": {
        "colab": {
          "base_uri": "https://localhost:8080/"
        },
        "id": "Cj_8ysMdqP6-",
        "outputId": "283d4506-be00-4543-b0f0-b14a649d55b1"
      },
      "outputs": [
        {
          "name": "stdout",
          "output_type": "stream",
          "text": [
            "('Paulino', 'Carmen')\n"
          ]
        }
      ],
      "source": [
        "print(run(6,x,abuelos(x,\"Camila\")))"
      ]
    },
    {
      "cell_type": "code",
      "execution_count": null,
      "metadata": {
        "colab": {
          "base_uri": "https://localhost:8080/"
        },
        "id": "PYulivauqTb1",
        "outputId": "e5c9c189-ad86-47c4-ff05-8251e2263493"
      },
      "outputs": [
        {
          "name": "stdout",
          "output_type": "stream",
          "text": [
            "('Cristina', 'Gabriel ', 'Liz', 'Amalia', 'Beatriz')\n"
          ]
        }
      ],
      "source": [
        "print(run(5,x,hijos(x,\"Esperanza\")))"
      ]
    },
    {
      "cell_type": "code",
      "execution_count": null,
      "metadata": {
        "colab": {
          "base_uri": "https://localhost:8080/"
        },
        "id": "6RCCtcuDqVmv",
        "outputId": "0783008e-5828-4864-a13e-81b3cd545a8a"
      },
      "outputs": [
        {
          "name": "stdout",
          "output_type": "stream",
          "text": [
            "('Juana', 'Carlos')\n"
          ]
        }
      ],
      "source": [
        "print(run(4,x,tios(x,\"Liz\")))"
      ]
    },
    {
      "cell_type": "code",
      "execution_count": null,
      "metadata": {
        "colab": {
          "base_uri": "https://localhost:8080/"
        },
        "id": "Vk3twtXyqX7D",
        "outputId": "948abe71-36c2-4fdd-ebaf-398b1472e6c6"
      },
      "outputs": [
        {
          "name": "stdout",
          "output_type": "stream",
          "text": [
            "('Camila',)\n"
          ]
        }
      ],
      "source": [
        "print(run(4,x,hermanos(x,\"Franco\")))"
      ]
    },
    {
      "cell_type": "code",
      "execution_count": null,
      "metadata": {
        "colab": {
          "base_uri": "https://localhost:8080/"
        },
        "id": "ppxk90MCqZp0",
        "outputId": "0c7157dd-34a5-4dd6-996d-719e39a2ca3b"
      },
      "outputs": [
        {
          "name": "stdout",
          "output_type": "stream",
          "text": [
            "('Camila', 'Franco')\n"
          ]
        }
      ],
      "source": [
        "print(run(6,x,primos(x,\"Liz\")))"
      ]
    }
  ],
  "metadata": {
    "colab": {
      "provenance": [],
      "mount_file_id": "16JokpMKAo_KgT_nbILqb9UwBECLPBGhR",
      "authorship_tag": "ABX9TyMuM9rde7rNLguRzO8Rr61a",
      "include_colab_link": true
    },
    "kernelspec": {
      "display_name": "Python 3",
      "name": "python3"
    },
    "language_info": {
      "name": "python"
    }
  },
  "nbformat": 4,
  "nbformat_minor": 0
}